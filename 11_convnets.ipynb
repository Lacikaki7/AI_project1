{
  "cells": [
    {
      "cell_type": "markdown",
      "metadata": {
        "id": "view-in-github",
        "colab_type": "text"
      },
      "source": [
        "<a href=\"https://colab.research.google.com/github/Lacikaki7/AI_project1/blob/main/11_convnets.ipynb\" target=\"_parent\"><img src=\"https://colab.research.google.com/assets/colab-badge.svg\" alt=\"Open In Colab\"/></a>"
      ]
    },
    {
      "cell_type": "markdown",
      "id": "52af1f42-940e-4bfd-8a6e-81622bd67a84",
      "metadata": {
        "id": "52af1f42-940e-4bfd-8a6e-81622bd67a84"
      },
      "source": [
        "# ANN\n",
        "\n",
        "28x28 = 784"
      ]
    },
    {
      "cell_type": "code",
      "execution_count": null,
      "id": "1e9b7454-6341-4a08-80bf-7f07282e8b59",
      "metadata": {
        "id": "1e9b7454-6341-4a08-80bf-7f07282e8b59"
      },
      "outputs": [],
      "source": [
        "import torch\n",
        "import torch.nn as nn\n",
        "import torch.nn.functional as F\n",
        "from torch.utils.data import DataLoader\n",
        "from torchvision import datasets, transforms"
      ]
    },
    {
      "cell_type": "code",
      "execution_count": null,
      "id": "eab5b791-8182-422b-827b-f203ead1ae93",
      "metadata": {
        "id": "eab5b791-8182-422b-827b-f203ead1ae93"
      },
      "outputs": [],
      "source": [
        "import numpy as np\n",
        "import pandas as pd\n",
        "from sklearn.metrics import confusion_matrix\n",
        "import matplotlib.pyplot as plt\n",
        "%matplotlib inline"
      ]
    },
    {
      "cell_type": "code",
      "execution_count": null,
      "id": "1b58a18a-8114-41de-abbf-7b624332459d",
      "metadata": {
        "id": "1b58a18a-8114-41de-abbf-7b624332459d"
      },
      "outputs": [],
      "source": [
        "transform = transforms.ToTensor()"
      ]
    },
    {
      "cell_type": "code",
      "execution_count": null,
      "id": "fc2aa9e1-eeae-42e0-9f6f-d72c72d01442",
      "metadata": {
        "colab": {
          "base_uri": "https://localhost:8080/"
        },
        "id": "fc2aa9e1-eeae-42e0-9f6f-d72c72d01442",
        "outputId": "81269ec3-b88f-4167-dafc-cc2727b07e5c"
      },
      "outputs": [
        {
          "output_type": "execute_result",
          "data": {
            "text/plain": [
              "Dataset MNIST\n",
              "    Number of datapoints: 60000\n",
              "    Root location: ./Data\n",
              "    Split: Train\n",
              "    StandardTransform\n",
              "Transform: ToTensor()"
            ]
          },
          "metadata": {},
          "execution_count": 4
        }
      ],
      "source": [
        "train_data = datasets.MNIST(root='./Data',train=True,download=True,transform=transform)\n",
        "train_data"
      ]
    },
    {
      "cell_type": "code",
      "execution_count": null,
      "id": "200bb7bb-758b-4c23-a429-13032dd7cac8",
      "metadata": {
        "colab": {
          "base_uri": "https://localhost:8080/"
        },
        "id": "200bb7bb-758b-4c23-a429-13032dd7cac8",
        "outputId": "466052c4-b867-4b54-fb24-c26f73dbb022"
      },
      "outputs": [
        {
          "output_type": "execute_result",
          "data": {
            "text/plain": [
              "Dataset MNIST\n",
              "    Number of datapoints: 10000\n",
              "    Root location: ./Data\n",
              "    Split: Test\n",
              "    StandardTransform\n",
              "Transform: ToTensor()"
            ]
          },
          "metadata": {},
          "execution_count": 5
        }
      ],
      "source": [
        "test_data = datasets.MNIST(root='./Data',train=False,download=True,transform=transform)\n",
        "test_data"
      ]
    },
    {
      "cell_type": "code",
      "execution_count": null,
      "id": "bc3a3560-6615-4708-9194-38d3f3c3a177",
      "metadata": {
        "colab": {
          "base_uri": "https://localhost:8080/"
        },
        "id": "bc3a3560-6615-4708-9194-38d3f3c3a177",
        "outputId": "d07a630b-c0e3-412c-9737-b76de9dd0f6f"
      },
      "outputs": [
        {
          "output_type": "execute_result",
          "data": {
            "text/plain": [
              "5"
            ]
          },
          "metadata": {},
          "execution_count": 6
        }
      ],
      "source": [
        "train_data[0][1]"
      ]
    },
    {
      "cell_type": "code",
      "execution_count": null,
      "id": "628af706-046a-4fa2-9e8a-4f9b9a0437a6",
      "metadata": {
        "colab": {
          "base_uri": "https://localhost:8080/"
        },
        "id": "628af706-046a-4fa2-9e8a-4f9b9a0437a6",
        "outputId": "31d907bc-e2ef-4ae9-ab27-80ba00e56b1e"
      },
      "outputs": [
        {
          "output_type": "execute_result",
          "data": {
            "text/plain": [
              "torch.Size([1, 28, 28])"
            ]
          },
          "metadata": {},
          "execution_count": 7
        }
      ],
      "source": [
        "train_data[0][0].shape"
      ]
    },
    {
      "cell_type": "code",
      "execution_count": null,
      "id": "318362f1-5d7c-4968-9d7d-07d379a8386c",
      "metadata": {
        "colab": {
          "base_uri": "https://localhost:8080/",
          "height": 447
        },
        "id": "318362f1-5d7c-4968-9d7d-07d379a8386c",
        "outputId": "42a09261-b39d-4504-c0db-4f33526c55e0"
      },
      "outputs": [
        {
          "output_type": "execute_result",
          "data": {
            "text/plain": [
              "<matplotlib.image.AxesImage at 0x7c0eb16f94e0>"
            ]
          },
          "metadata": {},
          "execution_count": 8
        },
        {
          "output_type": "display_data",
          "data": {
            "text/plain": [
              "<Figure size 640x480 with 1 Axes>"
            ],
            "image/png": "[encoded data removed]"
          },
          "metadata": {}
        }
      ],
      "source": [
        "plt.imshow(train_data[25][0].reshape((28,28)),cmap=\"gray\")"
      ]
    },
    {
      "cell_type": "code",
      "execution_count": null,
      "id": "2a31cb25-f969-4d4e-8084-7d3d631d61b1",
      "metadata": {
        "colab": {
          "base_uri": "https://localhost:8080/"
        },
        "id": "2a31cb25-f969-4d4e-8084-7d3d631d61b1",
        "outputId": "18c34896-dc7e-4253-bba0-b736f718169a"
      },
      "outputs": [
        {
          "output_type": "execute_result",
          "data": {
            "text/plain": [
              "2"
            ]
          },
          "metadata": {},
          "execution_count": 9
        }
      ],
      "source": [
        "train_data[25][1]"
      ]
    },
    {
      "cell_type": "code",
      "execution_count": null,
      "id": "70ada826-85c4-40d3-ac5b-e2c134cb7908",
      "metadata": {
        "id": "70ada826-85c4-40d3-ac5b-e2c134cb7908"
      },
      "outputs": [],
      "source": [
        "torch.manual_seed(101)\n",
        "\n",
        "train_loader = DataLoader(train_data,batch_size=32,shuffle=True)\n",
        "test_loader = DataLoader(test_data,batch_size=100,shuffle=False)"
      ]
    },
    {
      "cell_type": "code",
      "execution_count": null,
      "id": "100be0b7-fac6-4266-9ae3-575ab4f22927",
      "metadata": {
        "id": "100be0b7-fac6-4266-9ae3-575ab4f22927"
      },
      "outputs": [],
      "source": [
        "from torchvision.utils import make_grid\n",
        "np.set_printoptions(formatter=dict(int=lambda x: f\"{x:4}\"))"
      ]
    },
    {
      "cell_type": "code",
      "execution_count": null,
      "id": "58de9b34-e773-4cc7-a845-34b1155eba1d",
      "metadata": {
        "id": "58de9b34-e773-4cc7-a845-34b1155eba1d"
      },
      "outputs": [],
      "source": [
        "for images, labels in train_loader:\n",
        "    break"
      ]
    },
    {
      "cell_type": "code",
      "execution_count": null,
      "id": "8d73ed09-468a-4966-a3c3-6f8bd4f6512a",
      "metadata": {
        "colab": {
          "base_uri": "https://localhost:8080/"
        },
        "id": "8d73ed09-468a-4966-a3c3-6f8bd4f6512a",
        "outputId": "8162bbd7-9e5a-43df-a39d-4d70a9ace149"
      },
      "outputs": [
        {
          "output_type": "stream",
          "name": "stdout",
          "text": [
            "Labels:  tensor([7, 2, 3, 5, 8, 5, 3, 6, 9, 9, 1, 3])\n"
          ]
        }
      ],
      "source": [
        "print(\"Labels: \",labels[:12])"
      ]
    },
    {
      "cell_type": "code",
      "execution_count": null,
      "id": "87ef3b63-6b3c-464c-b4fc-7ad71f10f921",
      "metadata": {
        "colab": {
          "base_uri": "https://localhost:8080/",
          "height": 130
        },
        "id": "87ef3b63-6b3c-464c-b4fc-7ad71f10f921",
        "outputId": "374329c8-691b-4a71-c5bb-7fb77c83d889"
      },
      "outputs": [
        {
          "output_type": "display_data",
          "data": {
            "text/plain": [
              "<Figure size 1000x400 with 1 Axes>"
            ],
            "image/png": "[encoded data removed]"
          },
          "metadata": {}
        }
      ],
      "source": [
        "im = make_grid(images[:12],nrow=12)\n",
        "plt.figure(figsize=(10,4))\n",
        "plt.imshow(np.transpose(im.numpy(),(1,2,0)));"
      ]
    },
    {
      "cell_type": "code",
      "execution_count": null,
      "id": "ac56fd32-4c03-4bca-980d-a7800eea1cfe",
      "metadata": {
        "id": "ac56fd32-4c03-4bca-980d-a7800eea1cfe"
      },
      "outputs": [],
      "source": [
        "class Net(nn.Module):\n",
        "    def __init__(self,in_s = 784, out_s = 10, layers = [120,84]):\n",
        "        super().__init__()\n",
        "        self.fc1 = nn.Linear(in_s,layers[0])\n",
        "        self.fc2 = nn.Linear(layers[0],layers[1])\n",
        "        self.fc3 = nn.Linear(layers[1],out_s)\n",
        "\n",
        "    def forward(self,x):\n",
        "        x = self.fc1(x)\n",
        "        x = F.relu(x)\n",
        "        x = self.fc2(x)\n",
        "        x = F.relu(x)\n",
        "        x = self.fc3(x)\n",
        "        return x"
      ]
    },
    {
      "cell_type": "code",
      "execution_count": null,
      "id": "438ccacd-935c-4fda-9bbd-126fbff3d90a",
      "metadata": {
        "colab": {
          "base_uri": "https://localhost:8080/"
        },
        "id": "438ccacd-935c-4fda-9bbd-126fbff3d90a",
        "outputId": "4608e881-5df7-4f09-edff-0126a6ba6ef3"
      },
      "outputs": [
        {
          "output_type": "stream",
          "name": "stdout",
          "text": [
            "cpu\n"
          ]
        }
      ],
      "source": [
        "device = torch.device(\"cuda:0\" if torch.cuda.is_available() else \"cpu\")\n",
        "print(device) # Might as well find out!"
      ]
    },
    {
      "cell_type": "code",
      "execution_count": null,
      "id": "950b9c2e-4582-48f5-a86b-e7cf62b16698",
      "metadata": {
        "colab": {
          "base_uri": "https://localhost:8080/"
        },
        "id": "950b9c2e-4582-48f5-a86b-e7cf62b16698",
        "outputId": "86319850-6577-45c1-dce6-8e98060f2b20"
      },
      "outputs": [
        {
          "output_type": "execute_result",
          "data": {
            "text/plain": [
              "Net(\n",
              "  (fc1): Linear(in_features=784, out_features=120, bias=True)\n",
              "  (fc2): Linear(in_features=120, out_features=84, bias=True)\n",
              "  (fc3): Linear(in_features=84, out_features=10, bias=True)\n",
              ")"
            ]
          },
          "metadata": {},
          "execution_count": 17
        }
      ],
      "source": [
        "torch.manual_seed(101)\n",
        "model = Net().to(device)\n",
        "model"
      ]
    },
    {
      "cell_type": "code",
      "execution_count": null,
      "id": "1f775eb2-b890-4e57-a106-6683001770ca",
      "metadata": {
        "id": "1f775eb2-b890-4e57-a106-6683001770ca"
      },
      "outputs": [],
      "source": [
        "def count_parameters(model):\n",
        "    params = [p.numel() for p in model.parameters()]\n",
        "    print(sum(params))"
      ]
    },
    {
      "cell_type": "code",
      "execution_count": null,
      "id": "a14a4da2-171a-471b-b08e-b9ccde9d4482",
      "metadata": {
        "colab": {
          "base_uri": "https://localhost:8080/"
        },
        "id": "a14a4da2-171a-471b-b08e-b9ccde9d4482",
        "outputId": "a5dc1436-bcb1-45aa-ebed-90bc9d1d6f5e"
      },
      "outputs": [
        {
          "output_type": "stream",
          "name": "stdout",
          "text": [
            "105214\n"
          ]
        }
      ],
      "source": [
        "count_parameters(model)"
      ]
    },
    {
      "cell_type": "code",
      "execution_count": null,
      "id": "a68a68dc-516f-481f-91dc-8034c4567b2b",
      "metadata": {
        "id": "a68a68dc-516f-481f-91dc-8034c4567b2b"
      },
      "outputs": [],
      "source": [
        "import time"
      ]
    },
    {
      "cell_type": "code",
      "execution_count": null,
      "id": "b8aae4d8-1cf2-4cb2-bc18-06fd018e4001",
      "metadata": {
        "id": "b8aae4d8-1cf2-4cb2-bc18-06fd018e4001"
      },
      "outputs": [],
      "source": [
        "criterion = nn.CrossEntropyLoss()\n",
        "optimizer = torch.optim.Adam(model.parameters(), lr = 0.001)"
      ]
    },
    {
      "cell_type": "code",
      "execution_count": null,
      "id": "855cc015-4516-4fa4-96a2-85c797e2e8e1",
      "metadata": {
        "colab": {
          "base_uri": "https://localhost:8080/"
        },
        "id": "855cc015-4516-4fa4-96a2-85c797e2e8e1",
        "outputId": "054cfc8d-2036-4c67-e445-3589a9e1da91"
      },
      "outputs": [
        {
          "output_type": "stream",
          "name": "stdout",
          "text": [
            "[1/10] batch: [125/1875] loss: 0.826 acc: 0.717\n",
            "[1/10] batch: [250/1875] loss: 0.255 acc: 0.803\n",
            "[1/10] batch: [375/1875] loss: 0.163 acc: 0.837\n",
            "[1/10] batch: [500/1875] loss: 0.217 acc: 0.859\n",
            "[1/10] batch: [625/1875] loss: 0.290 acc: 0.871\n",
            "[1/10] batch: [750/1875] loss: 0.348 acc: 0.880\n",
            "[1/10] batch: [875/1875] loss: 0.379 acc: 0.887\n",
            "[1/10] batch: [1000/1875] loss: 0.081 acc: 0.893\n",
            "[1/10] batch: [1125/1875] loss: 0.141 acc: 0.898\n",
            "[1/10] batch: [1250/1875] loss: 0.535 acc: 0.902\n",
            "[1/10] batch: [1375/1875] loss: 0.089 acc: 0.906\n",
            "[1/10] batch: [1500/1875] loss: 0.087 acc: 0.909\n",
            "[1/10] batch: [1625/1875] loss: 0.057 acc: 0.913\n",
            "[1/10] batch: [1750/1875] loss: 0.054 acc: 0.915\n",
            "[1/10] batch: [1875/1875] loss: 0.247 acc: 0.917\n",
            "\n",
            "[1/10] TL: 14.202 TA: 0.958\n",
            "\n",
            "[2/10] batch: [125/1875] loss: 0.063 acc: 0.959\n",
            "[2/10] batch: [250/1875] loss: 0.179 acc: 0.960\n",
            "[2/10] batch: [375/1875] loss: 0.034 acc: 0.960\n",
            "[2/10] batch: [500/1875] loss: 0.026 acc: 0.960\n",
            "[2/10] batch: [625/1875] loss: 0.093 acc: 0.961\n",
            "[2/10] batch: [750/1875] loss: 0.295 acc: 0.960\n",
            "[2/10] batch: [875/1875] loss: 0.026 acc: 0.961\n",
            "[2/10] batch: [1000/1875] loss: 0.141 acc: 0.962\n",
            "[2/10] batch: [1125/1875] loss: 0.035 acc: 0.962\n",
            "[2/10] batch: [1250/1875] loss: 0.150 acc: 0.962\n",
            "[2/10] batch: [1375/1875] loss: 0.148 acc: 0.962\n",
            "[2/10] batch: [1500/1875] loss: 0.091 acc: 0.962\n",
            "[2/10] batch: [1625/1875] loss: 0.081 acc: 0.963\n",
            "[2/10] batch: [1750/1875] loss: 0.259 acc: 0.963\n",
            "[2/10] batch: [1875/1875] loss: 0.092 acc: 0.963\n",
            "\n",
            "[2/10] TL: 11.039 TA: 0.966\n",
            "\n",
            "[3/10] batch: [125/1875] loss: 0.010 acc: 0.975\n",
            "[3/10] batch: [250/1875] loss: 0.112 acc: 0.975\n",
            "[3/10] batch: [375/1875] loss: 0.019 acc: 0.976\n",
            "[3/10] batch: [500/1875] loss: 0.149 acc: 0.975\n",
            "[3/10] batch: [625/1875] loss: 0.024 acc: 0.976\n",
            "[3/10] batch: [750/1875] loss: 0.081 acc: 0.974\n",
            "[3/10] batch: [875/1875] loss: 0.027 acc: 0.975\n",
            "[3/10] batch: [1000/1875] loss: 0.025 acc: 0.975\n",
            "[3/10] batch: [1125/1875] loss: 0.236 acc: 0.975\n",
            "[3/10] batch: [1250/1875] loss: 0.005 acc: 0.975\n",
            "[3/10] batch: [1375/1875] loss: 0.084 acc: 0.975\n",
            "[3/10] batch: [1500/1875] loss: 0.032 acc: 0.975\n",
            "[3/10] batch: [1625/1875] loss: 0.158 acc: 0.974\n",
            "[3/10] batch: [1750/1875] loss: 0.068 acc: 0.974\n",
            "[3/10] batch: [1875/1875] loss: 0.002 acc: 0.974\n",
            "\n",
            "[3/10] TL: 8.226 TA: 0.976\n",
            "\n",
            "[4/10] batch: [125/1875] loss: 0.031 acc: 0.983\n",
            "[4/10] batch: [250/1875] loss: 0.017 acc: 0.983\n",
            "[4/10] batch: [375/1875] loss: 0.002 acc: 0.981\n",
            "[4/10] batch: [500/1875] loss: 0.007 acc: 0.982\n",
            "[4/10] batch: [625/1875] loss: 0.009 acc: 0.982\n",
            "[4/10] batch: [750/1875] loss: 0.064 acc: 0.981\n",
            "[4/10] batch: [875/1875] loss: 0.069 acc: 0.981\n",
            "[4/10] batch: [1000/1875] loss: 0.013 acc: 0.981\n",
            "[4/10] batch: [1125/1875] loss: 0.081 acc: 0.981\n",
            "[4/10] batch: [1250/1875] loss: 0.141 acc: 0.980\n",
            "[4/10] batch: [1375/1875] loss: 0.089 acc: 0.980\n",
            "[4/10] batch: [1500/1875] loss: 0.028 acc: 0.981\n",
            "[4/10] batch: [1625/1875] loss: 0.073 acc: 0.980\n",
            "[4/10] batch: [1750/1875] loss: 0.140 acc: 0.980\n",
            "[4/10] batch: [1875/1875] loss: 0.066 acc: 0.980\n",
            "\n",
            "[4/10] TL: 8.489 TA: 0.974\n",
            "\n",
            "[5/10] batch: [125/1875] loss: 0.003 acc: 0.989\n",
            "[5/10] batch: [250/1875] loss: 0.028 acc: 0.987\n",
            "[5/10] batch: [375/1875] loss: 0.019 acc: 0.986\n",
            "[5/10] batch: [500/1875] loss: 0.006 acc: 0.986\n",
            "[5/10] batch: [625/1875] loss: 0.023 acc: 0.986\n",
            "[5/10] batch: [750/1875] loss: 0.005 acc: 0.986\n",
            "[5/10] batch: [875/1875] loss: 0.277 acc: 0.986\n",
            "[5/10] batch: [1000/1875] loss: 0.017 acc: 0.985\n",
            "[5/10] batch: [1125/1875] loss: 0.149 acc: 0.985\n",
            "[5/10] batch: [1250/1875] loss: 0.084 acc: 0.985\n",
            "[5/10] batch: [1375/1875] loss: 0.007 acc: 0.985\n",
            "[5/10] batch: [1500/1875] loss: 0.058 acc: 0.985\n",
            "[5/10] batch: [1625/1875] loss: 0.013 acc: 0.985\n",
            "[5/10] batch: [1750/1875] loss: 0.019 acc: 0.984\n",
            "[5/10] batch: [1875/1875] loss: 0.007 acc: 0.984\n",
            "\n",
            "[5/10] TL: 8.206 TA: 0.975\n",
            "\n",
            "[6/10] batch: [125/1875] loss: 0.067 acc: 0.990\n",
            "[6/10] batch: [250/1875] loss: 0.009 acc: 0.990\n",
            "[6/10] batch: [375/1875] loss: 0.026 acc: 0.990\n",
            "[6/10] batch: [500/1875] loss: 0.008 acc: 0.989\n",
            "[6/10] batch: [625/1875] loss: 0.001 acc: 0.989\n",
            "[6/10] batch: [750/1875] loss: 0.033 acc: 0.989\n",
            "[6/10] batch: [875/1875] loss: 0.023 acc: 0.989\n",
            "[6/10] batch: [1000/1875] loss: 0.012 acc: 0.988\n",
            "[6/10] batch: [1125/1875] loss: 0.007 acc: 0.988\n",
            "[6/10] batch: [1250/1875] loss: 0.021 acc: 0.988\n",
            "[6/10] batch: [1375/1875] loss: 0.124 acc: 0.988\n",
            "[6/10] batch: [1500/1875] loss: 0.025 acc: 0.988\n",
            "[6/10] batch: [1625/1875] loss: 0.040 acc: 0.988\n",
            "[6/10] batch: [1750/1875] loss: 0.039 acc: 0.988\n",
            "[6/10] batch: [1875/1875] loss: 0.020 acc: 0.988\n",
            "\n",
            "[6/10] TL: 8.633 TA: 0.977\n",
            "\n",
            "[7/10] batch: [125/1875] loss: 0.027 acc: 0.988\n",
            "[7/10] batch: [250/1875] loss: 0.028 acc: 0.991\n",
            "[7/10] batch: [375/1875] loss: 0.012 acc: 0.992\n",
            "[7/10] batch: [500/1875] loss: 0.134 acc: 0.991\n",
            "[7/10] batch: [625/1875] loss: 0.044 acc: 0.991\n",
            "[7/10] batch: [750/1875] loss: 0.125 acc: 0.990\n",
            "[7/10] batch: [875/1875] loss: 0.002 acc: 0.990\n",
            "[7/10] batch: [1000/1875] loss: 0.001 acc: 0.990\n",
            "[7/10] batch: [1125/1875] loss: 0.027 acc: 0.989\n",
            "[7/10] batch: [1250/1875] loss: 0.001 acc: 0.989\n",
            "[7/10] batch: [1375/1875] loss: 0.015 acc: 0.990\n",
            "[7/10] batch: [1500/1875] loss: 0.039 acc: 0.990\n",
            "[7/10] batch: [1625/1875] loss: 0.001 acc: 0.990\n",
            "[7/10] batch: [1750/1875] loss: 0.019 acc: 0.989\n",
            "[7/10] batch: [1875/1875] loss: 0.004 acc: 0.989\n",
            "\n",
            "[7/10] TL: 8.380 TA: 0.978\n",
            "\n",
            "[8/10] batch: [125/1875] loss: 0.001 acc: 0.995\n",
            "[8/10] batch: [250/1875] loss: 0.000 acc: 0.995\n",
            "[8/10] batch: [375/1875] loss: 0.013 acc: 0.995\n",
            "[8/10] batch: [500/1875] loss: 0.000 acc: 0.994\n",
            "[8/10] batch: [625/1875] loss: 0.005 acc: 0.994\n",
            "[8/10] batch: [750/1875] loss: 0.170 acc: 0.993\n",
            "[8/10] batch: [875/1875] loss: 0.008 acc: 0.992\n",
            "[8/10] batch: [1000/1875] loss: 0.033 acc: 0.992\n",
            "[8/10] batch: [1125/1875] loss: 0.014 acc: 0.992\n",
            "[8/10] batch: [1250/1875] loss: 0.140 acc: 0.992\n",
            "[8/10] batch: [1375/1875] loss: 0.002 acc: 0.991\n",
            "[8/10] batch: [1500/1875] loss: 0.044 acc: 0.991\n",
            "[8/10] batch: [1625/1875] loss: 0.001 acc: 0.991\n",
            "[8/10] batch: [1750/1875] loss: 0.018 acc: 0.991\n",
            "[8/10] batch: [1875/1875] loss: 0.034 acc: 0.991\n",
            "\n",
            "[8/10] TL: 8.348 TA: 0.977\n",
            "\n",
            "[9/10] batch: [125/1875] loss: 0.030 acc: 0.993\n",
            "[9/10] batch: [250/1875] loss: 0.002 acc: 0.994\n",
            "[9/10] batch: [375/1875] loss: 0.036 acc: 0.995\n",
            "[9/10] batch: [500/1875] loss: 0.000 acc: 0.994\n",
            "[9/10] batch: [625/1875] loss: 0.001 acc: 0.994\n",
            "[9/10] batch: [750/1875] loss: 0.001 acc: 0.994\n",
            "[9/10] batch: [875/1875] loss: 0.047 acc: 0.993\n",
            "[9/10] batch: [1000/1875] loss: 0.100 acc: 0.993\n",
            "[9/10] batch: [1125/1875] loss: 0.000 acc: 0.993\n",
            "[9/10] batch: [1250/1875] loss: 0.012 acc: 0.993\n",
            "[9/10] batch: [1375/1875] loss: 0.029 acc: 0.993\n",
            "[9/10] batch: [1500/1875] loss: 0.005 acc: 0.993\n",
            "[9/10] batch: [1625/1875] loss: 0.030 acc: 0.993\n",
            "[9/10] batch: [1750/1875] loss: 0.008 acc: 0.993\n",
            "[9/10] batch: [1875/1875] loss: 0.031 acc: 0.993\n",
            "\n",
            "[9/10] TL: 9.970 TA: 0.974\n",
            "\n",
            "[10/10] batch: [125/1875] loss: 0.001 acc: 0.994\n",
            "[10/10] batch: [250/1875] loss: 0.004 acc: 0.994\n",
            "[10/10] batch: [375/1875] loss: 0.003 acc: 0.995\n",
            "[10/10] batch: [500/1875] loss: 0.000 acc: 0.994\n",
            "[10/10] batch: [625/1875] loss: 0.022 acc: 0.994\n",
            "[10/10] batch: [750/1875] loss: 0.005 acc: 0.994\n",
            "[10/10] batch: [875/1875] loss: 0.001 acc: 0.994\n",
            "[10/10] batch: [1000/1875] loss: 0.028 acc: 0.993\n",
            "[10/10] batch: [1125/1875] loss: 0.001 acc: 0.993\n",
            "[10/10] batch: [1250/1875] loss: 0.034 acc: 0.993\n",
            "[10/10] batch: [1375/1875] loss: 0.021 acc: 0.993\n",
            "[10/10] batch: [1500/1875] loss: 0.002 acc: 0.993\n",
            "[10/10] batch: [1625/1875] loss: 0.003 acc: 0.993\n",
            "[10/10] batch: [1750/1875] loss: 0.055 acc: 0.993\n",
            "[10/10] batch: [1875/1875] loss: 0.018 acc: 0.993\n",
            "\n",
            "[10/10] TL: 9.941 TA: 0.978\n",
            "\n"
          ]
        }
      ],
      "source": [
        "start_time = time.time()\n",
        "\n",
        "epochs = 10\n",
        "train_losses = []\n",
        "test_losses = []\n",
        "train_correct = []\n",
        "test_correct = []\n",
        "\n",
        "for i in range(epochs):\n",
        "    train_acc = 0.0\n",
        "    train_num = 0\n",
        "    train_loss = 0.0\n",
        "\n",
        "    b = 0\n",
        "    for X_train, y_train in train_loader:\n",
        "        b+=1\n",
        "\n",
        "        X_train = X_train.to(device)\n",
        "        y_train = y_train.to(device)\n",
        "\n",
        "        y_pred = model(X_train.view(32,-1))\n",
        "        loss = criterion(y_pred, y_train)\n",
        "\n",
        "        train_loss += loss.item()\n",
        "\n",
        "        # which class\n",
        "        predicted = torch.max(y_pred.data,1)[1]\n",
        "        train_acc += (predicted == y_train).sum()\n",
        "        train_num += 32\n",
        "\n",
        "        # gradient calculating ---> update the weights\n",
        "        optimizer.zero_grad()\n",
        "        loss.backward() # gradient\n",
        "        optimizer.step()\n",
        "\n",
        "        # print results\n",
        "        if b%125 == 0:\n",
        "            print(f\"[{i+1}/{epochs}] batch: [{b}/{len(train_loader)}] loss: {loss.item():.3f} acc: {train_acc.item()/train_num:.3f}\")\n",
        "\n",
        "\n",
        "    train_losses.append(train_loss)\n",
        "    train_correct.append(train_acc.item()/train_num)\n",
        "\n",
        "    # evaluating\n",
        "    with torch.no_grad():\n",
        "        b = 0\n",
        "        test_acc = 0.0\n",
        "        test_num = 0\n",
        "        test_loss = 0.0\n",
        "        for X_test, y_test in test_loader:\n",
        "            b+=1\n",
        "\n",
        "            X_test = X_test.to(device)\n",
        "            y_test = y_test.to(device)\n",
        "            y_pred = model(X_test.view(100,-1))\n",
        "            test_num += 100\n",
        "\n",
        "            predicted = torch.max(y_pred.data,1)[1]\n",
        "            test_acc += (predicted == y_test).sum()\n",
        "\n",
        "            loss = criterion(y_pred,y_test)\n",
        "            test_loss += loss.item()\n",
        "\n",
        "        test_losses.append(test_loss)\n",
        "\n",
        "        print(f\"\\n[{i+1}/{epochs}] TL: {test_loss:.3f} TA: {test_acc/test_num:.3f}\\n\")\n"
      ]
    },
    {
      "cell_type": "code",
      "execution_count": null,
      "id": "366222bd-d493-4430-9b8f-151161c94915",
      "metadata": {
        "colab": {
          "base_uri": "https://localhost:8080/"
        },
        "id": "366222bd-d493-4430-9b8f-151161c94915",
        "outputId": "60892b24-bdb4-46b8-cd1e-46c06c78d9f7"
      },
      "outputs": [
        {
          "output_type": "execute_result",
          "data": {
            "text/plain": [
              "9.9"
            ]
          },
          "metadata": {},
          "execution_count": 23
        }
      ],
      "source": [
        "a= [ 2.2, 3.3 ,4.4]\n",
        "sum(a)"
      ]
    },
    {
      "cell_type": "markdown",
      "id": "af1801f7-287b-4975-8af7-0a9b3e808779",
      "metadata": {
        "id": "af1801f7-287b-4975-8af7-0a9b3e808779"
      },
      "source": [
        "# Convnet"
      ]
    },
    {
      "cell_type": "code",
      "execution_count": null,
      "id": "3abd817e-98cb-42d8-9597-2639c62facb1",
      "metadata": {
        "id": "3abd817e-98cb-42d8-9597-2639c62facb1"
      },
      "outputs": [],
      "source": [
        "conv1 = nn.Conv2d(in_channels=1,out_channels=6,kernel_size=3,stride=1)"
      ]
    },
    {
      "cell_type": "code",
      "execution_count": null,
      "id": "7d5d49f1-bc31-4292-964b-41b58b225cf3",
      "metadata": {
        "id": "7d5d49f1-bc31-4292-964b-41b58b225cf3"
      },
      "outputs": [],
      "source": [
        "for X_train, y_train in train_data:\n",
        "    break\n",
        "for X_train, y_train in train_loader:\n",
        "    break"
      ]
    },
    {
      "cell_type": "code",
      "execution_count": null,
      "id": "b3f91e4a-4f9f-4f14-a055-8a35a1330eca",
      "metadata": {
        "colab": {
          "base_uri": "https://localhost:8080/"
        },
        "id": "b3f91e4a-4f9f-4f14-a055-8a35a1330eca",
        "outputId": "f87e9d04-509e-4c21-cff4-d764834f5eaf"
      },
      "outputs": [
        {
          "output_type": "execute_result",
          "data": {
            "text/plain": [
              "torch.Size([32, 1, 28, 28])"
            ]
          },
          "metadata": {},
          "execution_count": 41
        }
      ],
      "source": [
        "X_train.shape"
      ]
    },
    {
      "cell_type": "code",
      "execution_count": null,
      "id": "b27dfb3e-6691-44da-b273-113447b99741",
      "metadata": {
        "colab": {
          "base_uri": "https://localhost:8080/"
        },
        "id": "b27dfb3e-6691-44da-b273-113447b99741",
        "outputId": "11d1b5ad-217c-47b5-e2f7-0623aaea56ce"
      },
      "outputs": [
        {
          "output_type": "execute_result",
          "data": {
            "text/plain": [
              "tensor([6, 7, 2, 1, 8, 9, 1, 4, 8, 6, 9, 8, 0, 2, 4, 8, 0, 6, 2, 6, 9, 7, 7, 9,\n",
              "        4, 7, 5, 8, 9, 8, 8, 9])"
            ]
          },
          "metadata": {},
          "execution_count": 42
        }
      ],
      "source": [
        "y_train"
      ]
    },
    {
      "cell_type": "code",
      "execution_count": null,
      "id": "0b9c1cc8-69b4-44a5-871a-444703d25ba9",
      "metadata": {
        "id": "0b9c1cc8-69b4-44a5-871a-444703d25ba9"
      },
      "outputs": [],
      "source": [
        "x = X_train.view(32,1,28,28)"
      ]
    },
    {
      "cell_type": "code",
      "execution_count": null,
      "id": "e8c18c87-ec89-4aa2-8b5e-85ab575f3b1a",
      "metadata": {
        "colab": {
          "base_uri": "https://localhost:8080/"
        },
        "id": "e8c18c87-ec89-4aa2-8b5e-85ab575f3b1a",
        "outputId": "b1f30dd1-5235-436d-e63e-d893483e60e2"
      },
      "outputs": [
        {
          "output_type": "execute_result",
          "data": {
            "text/plain": [
              "torch.Size([32, 1, 28, 28])"
            ]
          },
          "metadata": {},
          "execution_count": 44
        }
      ],
      "source": [
        "x.shape"
      ]
    },
    {
      "cell_type": "code",
      "source": [
        "conv1(x).shape"
      ],
      "metadata": {
        "colab": {
          "base_uri": "https://localhost:8080/"
        },
        "id": "VrEqbsIG2uKN",
        "outputId": "b0e4b01c-9812-4eb9-88a9-55e7ca6bdd7e"
      },
      "id": "VrEqbsIG2uKN",
      "execution_count": null,
      "outputs": [
        {
          "output_type": "execute_result",
          "data": {
            "text/plain": [
              "torch.Size([32, 6, 26, 26])"
            ]
          },
          "metadata": {},
          "execution_count": 45
        }
      ]
    },
    {
      "cell_type": "code",
      "execution_count": null,
      "id": "fb2f2a74-713f-4180-a869-61284648aa55",
      "metadata": {
        "id": "fb2f2a74-713f-4180-a869-61284648aa55"
      },
      "outputs": [],
      "source": [
        "x = F.relu(conv1(x))"
      ]
    },
    {
      "cell_type": "code",
      "execution_count": null,
      "id": "926fe80e-ce7b-4f40-afed-c8790a941815",
      "metadata": {
        "colab": {
          "base_uri": "https://localhost:8080/"
        },
        "id": "926fe80e-ce7b-4f40-afed-c8790a941815",
        "outputId": "4546091f-21d0-4ca0-ed20-b06a067ba7fa"
      },
      "outputs": [
        {
          "output_type": "execute_result",
          "data": {
            "text/plain": [
              "torch.Size([32, 6, 26, 26])"
            ]
          },
          "metadata": {},
          "execution_count": 47
        }
      ],
      "source": [
        "x.shape"
      ]
    },
    {
      "cell_type": "code",
      "execution_count": null,
      "id": "8ab2242e-48fa-46d6-8e5f-0d8bd104adaa",
      "metadata": {
        "id": "8ab2242e-48fa-46d6-8e5f-0d8bd104adaa"
      },
      "outputs": [],
      "source": [
        "x = F.avg_pool2d(x,2,2)"
      ]
    },
    {
      "cell_type": "code",
      "execution_count": null,
      "id": "fe774a41-041c-4771-a479-49878cf258cc",
      "metadata": {
        "colab": {
          "base_uri": "https://localhost:8080/"
        },
        "id": "fe774a41-041c-4771-a479-49878cf258cc",
        "outputId": "d5e36551-cdec-436b-9101-ff97b41b8b11"
      },
      "outputs": [
        {
          "output_type": "execute_result",
          "data": {
            "text/plain": [
              "torch.Size([32, 6, 13, 13])"
            ]
          },
          "metadata": {},
          "execution_count": 49
        }
      ],
      "source": [
        "x.shape"
      ]
    },
    {
      "cell_type": "code",
      "execution_count": null,
      "id": "4286c4ef-dcef-48b0-b90b-7634ff1bc560",
      "metadata": {
        "id": "4286c4ef-dcef-48b0-b90b-7634ff1bc560"
      },
      "outputs": [],
      "source": [
        "conv2 = nn.Conv2d(in_channels=6,out_channels=16,kernel_size=3,stride=1)"
      ]
    },
    {
      "cell_type": "code",
      "execution_count": null,
      "id": "c60cd1cb-7f1d-4fc6-9af3-be59b4c5f21d",
      "metadata": {
        "id": "c60cd1cb-7f1d-4fc6-9af3-be59b4c5f21d"
      },
      "outputs": [],
      "source": [
        "x = conv2(x)"
      ]
    },
    {
      "cell_type": "code",
      "source": [
        "x.shape"
      ],
      "metadata": {
        "colab": {
          "base_uri": "https://localhost:8080/"
        },
        "id": "47vDaNYo4-qN",
        "outputId": "8aed7967-b4c6-406a-98f6-dd6b756a6db8"
      },
      "id": "47vDaNYo4-qN",
      "execution_count": null,
      "outputs": [
        {
          "output_type": "execute_result",
          "data": {
            "text/plain": [
              "torch.Size([32, 16, 11, 11])"
            ]
          },
          "metadata": {},
          "execution_count": 52
        }
      ]
    },
    {
      "cell_type": "code",
      "execution_count": null,
      "id": "29b8d427-f084-40a9-b804-67e7c6e065e8",
      "metadata": {
        "id": "29b8d427-f084-40a9-b804-67e7c6e065e8"
      },
      "outputs": [],
      "source": [
        "x = F.avg_pool2d(x,2,2)"
      ]
    },
    {
      "cell_type": "code",
      "execution_count": null,
      "id": "451edea5-8bf1-4553-8044-7bae370972af",
      "metadata": {
        "colab": {
          "base_uri": "https://localhost:8080/"
        },
        "id": "451edea5-8bf1-4553-8044-7bae370972af",
        "outputId": "dbfa49bf-791c-46a4-ec2f-ee9cb2a6ad54"
      },
      "outputs": [
        {
          "output_type": "execute_result",
          "data": {
            "text/plain": [
              "torch.Size([32, 16, 5, 5])"
            ]
          },
          "metadata": {},
          "execution_count": 54
        }
      ],
      "source": [
        "x.shape"
      ]
    },
    {
      "cell_type": "code",
      "execution_count": null,
      "id": "cf126c5b-5b7e-4b5f-8876-3d5041dcfb5a",
      "metadata": {
        "id": "cf126c5b-5b7e-4b5f-8876-3d5041dcfb5a"
      },
      "outputs": [],
      "source": [
        "class ConvNet(nn.Module):\n",
        "    def __init__(self):\n",
        "        super().__init__()\n",
        "        self.conv1 = nn.Conv2d(in_channels=1,out_channels=6,kernel_size=3,stride=1)\n",
        "        self.conv2 = nn.Conv2d(in_channels=6,out_channels=16,kernel_size=3,stride=1)\n",
        "        self.fc1 = nn.Linear(5*5*16,120)\n",
        "        self.fc2 = nn.Linear(120,84)\n",
        "        self.fc3 = nn.Linear(84,10)\n",
        "\n",
        "    def forward(self,x):\n",
        "        batch_size = x.shape[0]\n",
        "\n",
        "        x = self.conv1(x)\n",
        "        x = F.relu(x)\n",
        "        x = F.avg_pool2d(x,kernel_size=2,stride=2)\n",
        "\n",
        "        x = self.conv2(x)\n",
        "        x = F.relu(x)\n",
        "        x = F.avg_pool2d(x,kernel_size=2,stride=2)\n",
        "\n",
        "        #x = x.view(-1,5*5*16)\n",
        "        x = x.view(batch_size,-1)\n",
        "\n",
        "        x = self.fc1(x)\n",
        "        x = F.relu(x)\n",
        "        x = self.fc2(x)\n",
        "        x = F.relu(x)\n",
        "        x = self.fc3(x)\n",
        "\n",
        "        return x\n"
      ]
    },
    {
      "cell_type": "code",
      "execution_count": null,
      "id": "8bb716f1-81a6-449e-a15a-1b440821e844",
      "metadata": {
        "id": "8bb716f1-81a6-449e-a15a-1b440821e844"
      },
      "outputs": [],
      "source": [
        "torch.manual_seed(42)\n",
        "model = ConvNet().to(device)"
      ]
    },
    {
      "cell_type": "code",
      "execution_count": null,
      "id": "64209824-14ca-49e5-abcd-487d9d7d6051",
      "metadata": {
        "colab": {
          "base_uri": "https://localhost:8080/"
        },
        "id": "64209824-14ca-49e5-abcd-487d9d7d6051",
        "outputId": "b57c4fef-5c44-480b-b723-3d2410b5adc0"
      },
      "outputs": [
        {
          "output_type": "execute_result",
          "data": {
            "text/plain": [
              "ConvNet(\n",
              "  (conv1): Conv2d(1, 6, kernel_size=(3, 3), stride=(1, 1))\n",
              "  (conv2): Conv2d(6, 16, kernel_size=(3, 3), stride=(1, 1))\n",
              "  (fc1): Linear(in_features=400, out_features=120, bias=True)\n",
              "  (fc2): Linear(in_features=120, out_features=84, bias=True)\n",
              "  (fc3): Linear(in_features=84, out_features=10, bias=True)\n",
              ")"
            ]
          },
          "metadata": {},
          "execution_count": 57
        }
      ],
      "source": [
        "model"
      ]
    },
    {
      "cell_type": "code",
      "execution_count": null,
      "id": "e19059f0-ccce-4524-b30a-fef706147ab7",
      "metadata": {
        "colab": {
          "base_uri": "https://localhost:8080/"
        },
        "id": "e19059f0-ccce-4524-b30a-fef706147ab7",
        "outputId": "b58de72f-e195-4da7-9779-bcecf4d8e0f8"
      },
      "outputs": [
        {
          "output_type": "stream",
          "name": "stdout",
          "text": [
            "60074\n"
          ]
        }
      ],
      "source": [
        "count_parameters(model)"
      ]
    },
    {
      "cell_type": "code",
      "execution_count": null,
      "id": "a5a09cc2-9306-4ca1-8188-85b3cc8acaaf",
      "metadata": {
        "id": "a5a09cc2-9306-4ca1-8188-85b3cc8acaaf"
      },
      "outputs": [],
      "source": [
        "criterion = nn.CrossEntropyLoss()\n",
        "optimizer = torch.optim.Adam(model.parameters(),lr=0.001)"
      ]
    },
    {
      "cell_type": "code",
      "execution_count": null,
      "id": "375719ce-05c2-4899-8169-16894cf14547",
      "metadata": {
        "colab": {
          "base_uri": "https://localhost:8080/"
        },
        "id": "375719ce-05c2-4899-8169-16894cf14547",
        "outputId": "7b78aeaa-787a-4d03-a31e-94c3524a6818"
      },
      "outputs": [
        {
          "output_type": "stream",
          "name": "stdout",
          "text": [
            "[1/10] batch: [125/1875] loss: 0.590 acc: 0.608\n",
            "[1/10] batch: [250/1875] loss: 0.312 acc: 0.723\n",
            "[1/10] batch: [375/1875] loss: 0.444 acc: 0.772\n",
            "[1/10] batch: [500/1875] loss: 0.761 acc: 0.801\n",
            "[1/10] batch: [625/1875] loss: 0.327 acc: 0.821\n",
            "[1/10] batch: [750/1875] loss: 0.259 acc: 0.837\n",
            "[1/10] batch: [875/1875] loss: 0.170 acc: 0.849\n",
            "[1/10] batch: [1000/1875] loss: 0.067 acc: 0.859\n",
            "[1/10] batch: [1125/1875] loss: 0.077 acc: 0.868\n",
            "[1/10] batch: [1250/1875] loss: 0.200 acc: 0.875\n",
            "[1/10] batch: [1375/1875] loss: 0.242 acc: 0.881\n",
            "[1/10] batch: [1500/1875] loss: 0.049 acc: 0.887\n",
            "[1/10] batch: [1625/1875] loss: 0.062 acc: 0.892\n",
            "[1/10] batch: [1750/1875] loss: 0.021 acc: 0.897\n",
            "[1/10] batch: [1875/1875] loss: 0.246 acc: 0.901\n",
            "\n",
            "[1/10] TL: 10.258 TA: 0.968\n",
            "\n",
            "[2/10] batch: [125/1875] loss: 0.156 acc: 0.959\n",
            "[2/10] batch: [250/1875] loss: 0.419 acc: 0.962\n",
            "[2/10] batch: [375/1875] loss: 0.071 acc: 0.963\n",
            "[2/10] batch: [500/1875] loss: 0.109 acc: 0.964\n",
            "[2/10] batch: [625/1875] loss: 0.142 acc: 0.965\n",
            "[2/10] batch: [750/1875] loss: 0.113 acc: 0.966\n",
            "[2/10] batch: [875/1875] loss: 0.032 acc: 0.965\n",
            "[2/10] batch: [1000/1875] loss: 0.166 acc: 0.965\n",
            "[2/10] batch: [1125/1875] loss: 0.059 acc: 0.966\n",
            "[2/10] batch: [1250/1875] loss: 0.097 acc: 0.966\n",
            "[2/10] batch: [1375/1875] loss: 0.011 acc: 0.966\n",
            "[2/10] batch: [1500/1875] loss: 0.024 acc: 0.967\n",
            "[2/10] batch: [1625/1875] loss: 0.076 acc: 0.967\n",
            "[2/10] batch: [1750/1875] loss: 0.044 acc: 0.967\n",
            "[2/10] batch: [1875/1875] loss: 0.075 acc: 0.967\n",
            "\n",
            "[2/10] TL: 6.967 TA: 0.978\n",
            "\n",
            "[3/10] batch: [125/1875] loss: 0.084 acc: 0.976\n",
            "[3/10] batch: [250/1875] loss: 0.004 acc: 0.976\n",
            "[3/10] batch: [375/1875] loss: 0.066 acc: 0.977\n",
            "[3/10] batch: [500/1875] loss: 0.013 acc: 0.976\n",
            "[3/10] batch: [625/1875] loss: 0.021 acc: 0.976\n",
            "[3/10] batch: [750/1875] loss: 0.355 acc: 0.976\n",
            "[3/10] batch: [875/1875] loss: 0.047 acc: 0.976\n",
            "[3/10] batch: [1000/1875] loss: 0.107 acc: 0.976\n",
            "[3/10] batch: [1125/1875] loss: 0.042 acc: 0.977\n",
            "[3/10] batch: [1250/1875] loss: 0.031 acc: 0.977\n",
            "[3/10] batch: [1375/1875] loss: 0.013 acc: 0.977\n",
            "[3/10] batch: [1500/1875] loss: 0.037 acc: 0.977\n",
            "[3/10] batch: [1625/1875] loss: 0.265 acc: 0.977\n",
            "[3/10] batch: [1750/1875] loss: 0.019 acc: 0.977\n",
            "[3/10] batch: [1875/1875] loss: 0.029 acc: 0.977\n",
            "\n",
            "[3/10] TL: 7.038 TA: 0.976\n",
            "\n",
            "[4/10] batch: [125/1875] loss: 0.123 acc: 0.982\n",
            "[4/10] batch: [250/1875] loss: 0.011 acc: 0.982\n",
            "[4/10] batch: [375/1875] loss: 0.010 acc: 0.983\n",
            "[4/10] batch: [500/1875] loss: 0.024 acc: 0.983\n",
            "[4/10] batch: [625/1875] loss: 0.018 acc: 0.982\n",
            "[4/10] batch: [750/1875] loss: 0.043 acc: 0.982\n",
            "[4/10] batch: [875/1875] loss: 0.039 acc: 0.982\n",
            "[4/10] batch: [1000/1875] loss: 0.008 acc: 0.982\n",
            "[4/10] batch: [1125/1875] loss: 0.010 acc: 0.982\n",
            "[4/10] batch: [1250/1875] loss: 0.027 acc: 0.982\n",
            "[4/10] batch: [1375/1875] loss: 0.028 acc: 0.982\n",
            "[4/10] batch: [1500/1875] loss: 0.016 acc: 0.982\n",
            "[4/10] batch: [1625/1875] loss: 0.141 acc: 0.982\n",
            "[4/10] batch: [1750/1875] loss: 0.020 acc: 0.982\n",
            "[4/10] batch: [1875/1875] loss: 0.053 acc: 0.982\n",
            "\n",
            "[4/10] TL: 5.253 TA: 0.983\n",
            "\n",
            "[5/10] batch: [125/1875] loss: 0.200 acc: 0.989\n",
            "[5/10] batch: [250/1875] loss: 0.024 acc: 0.985\n",
            "[5/10] batch: [375/1875] loss: 0.008 acc: 0.985\n",
            "[5/10] batch: [500/1875] loss: 0.111 acc: 0.985\n",
            "[5/10] batch: [625/1875] loss: 0.018 acc: 0.985\n",
            "[5/10] batch: [750/1875] loss: 0.021 acc: 0.985\n",
            "[5/10] batch: [875/1875] loss: 0.002 acc: 0.985\n",
            "[5/10] batch: [1000/1875] loss: 0.054 acc: 0.985\n",
            "[5/10] batch: [1125/1875] loss: 0.022 acc: 0.986\n",
            "[5/10] batch: [1250/1875] loss: 0.001 acc: 0.986\n",
            "[5/10] batch: [1375/1875] loss: 0.039 acc: 0.986\n",
            "[5/10] batch: [1500/1875] loss: 0.016 acc: 0.986\n",
            "[5/10] batch: [1625/1875] loss: 0.085 acc: 0.986\n",
            "[5/10] batch: [1750/1875] loss: 0.153 acc: 0.985\n",
            "[5/10] batch: [1875/1875] loss: 0.011 acc: 0.985\n",
            "\n",
            "[5/10] TL: 4.114 TA: 0.987\n",
            "\n",
            "[6/10] batch: [125/1875] loss: 0.018 acc: 0.987\n",
            "[6/10] batch: [250/1875] loss: 0.017 acc: 0.987\n",
            "[6/10] batch: [375/1875] loss: 0.038 acc: 0.987\n",
            "[6/10] batch: [500/1875] loss: 0.145 acc: 0.987\n",
            "[6/10] batch: [625/1875] loss: 0.057 acc: 0.988\n",
            "[6/10] batch: [750/1875] loss: 0.003 acc: 0.987\n",
            "[6/10] batch: [875/1875] loss: 0.010 acc: 0.987\n",
            "[6/10] batch: [1000/1875] loss: 0.035 acc: 0.987\n",
            "[6/10] batch: [1125/1875] loss: 0.001 acc: 0.987\n",
            "[6/10] batch: [1250/1875] loss: 0.010 acc: 0.987\n",
            "[6/10] batch: [1375/1875] loss: 0.096 acc: 0.987\n",
            "[6/10] batch: [1500/1875] loss: 0.011 acc: 0.987\n",
            "[6/10] batch: [1625/1875] loss: 0.021 acc: 0.987\n",
            "[6/10] batch: [1750/1875] loss: 0.004 acc: 0.988\n",
            "[6/10] batch: [1875/1875] loss: 0.008 acc: 0.988\n",
            "\n",
            "[6/10] TL: 4.341 TA: 0.987\n",
            "\n",
            "[7/10] batch: [125/1875] loss: 0.006 acc: 0.990\n",
            "[7/10] batch: [250/1875] loss: 0.001 acc: 0.990\n",
            "[7/10] batch: [375/1875] loss: 0.016 acc: 0.990\n",
            "[7/10] batch: [500/1875] loss: 0.012 acc: 0.990\n",
            "[7/10] batch: [625/1875] loss: 0.010 acc: 0.990\n",
            "[7/10] batch: [750/1875] loss: 0.003 acc: 0.990\n",
            "[7/10] batch: [875/1875] loss: 0.124 acc: 0.989\n",
            "[7/10] batch: [1000/1875] loss: 0.022 acc: 0.989\n",
            "[7/10] batch: [1125/1875] loss: 0.016 acc: 0.989\n",
            "[7/10] batch: [1250/1875] loss: 0.004 acc: 0.989\n",
            "[7/10] batch: [1375/1875] loss: 0.007 acc: 0.989\n",
            "[7/10] batch: [1500/1875] loss: 0.006 acc: 0.989\n",
            "[7/10] batch: [1625/1875] loss: 0.026 acc: 0.989\n",
            "[7/10] batch: [1750/1875] loss: 0.011 acc: 0.989\n",
            "[7/10] batch: [1875/1875] loss: 0.004 acc: 0.990\n",
            "\n",
            "[7/10] TL: 4.301 TA: 0.986\n",
            "\n",
            "[8/10] batch: [125/1875] loss: 0.001 acc: 0.994\n",
            "[8/10] batch: [250/1875] loss: 0.000 acc: 0.993\n",
            "[8/10] batch: [375/1875] loss: 0.010 acc: 0.992\n",
            "[8/10] batch: [500/1875] loss: 0.040 acc: 0.992\n",
            "[8/10] batch: [625/1875] loss: 0.036 acc: 0.992\n",
            "[8/10] batch: [750/1875] loss: 0.036 acc: 0.992\n",
            "[8/10] batch: [875/1875] loss: 0.066 acc: 0.991\n",
            "[8/10] batch: [1000/1875] loss: 0.009 acc: 0.991\n",
            "[8/10] batch: [1125/1875] loss: 0.041 acc: 0.991\n",
            "[8/10] batch: [1250/1875] loss: 0.006 acc: 0.991\n",
            "[8/10] batch: [1375/1875] loss: 0.000 acc: 0.991\n",
            "[8/10] batch: [1500/1875] loss: 0.095 acc: 0.991\n",
            "[8/10] batch: [1625/1875] loss: 0.002 acc: 0.991\n",
            "[8/10] batch: [1750/1875] loss: 0.000 acc: 0.991\n",
            "[8/10] batch: [1875/1875] loss: 0.010 acc: 0.991\n",
            "\n",
            "[8/10] TL: 4.112 TA: 0.988\n",
            "\n",
            "[9/10] batch: [125/1875] loss: 0.037 acc: 0.993\n",
            "[9/10] batch: [250/1875] loss: 0.001 acc: 0.994\n",
            "[9/10] batch: [375/1875] loss: 0.049 acc: 0.993\n",
            "[9/10] batch: [500/1875] loss: 0.019 acc: 0.993\n",
            "[9/10] batch: [625/1875] loss: 0.060 acc: 0.993\n",
            "[9/10] batch: [750/1875] loss: 0.240 acc: 0.993\n",
            "[9/10] batch: [875/1875] loss: 0.002 acc: 0.992\n",
            "[9/10] batch: [1000/1875] loss: 0.013 acc: 0.993\n",
            "[9/10] batch: [1125/1875] loss: 0.000 acc: 0.992\n",
            "[9/10] batch: [1250/1875] loss: 0.026 acc: 0.992\n",
            "[9/10] batch: [1375/1875] loss: 0.012 acc: 0.992\n",
            "[9/10] batch: [1500/1875] loss: 0.000 acc: 0.992\n",
            "[9/10] batch: [1625/1875] loss: 0.000 acc: 0.992\n",
            "[9/10] batch: [1750/1875] loss: 0.012 acc: 0.992\n",
            "[9/10] batch: [1875/1875] loss: 0.027 acc: 0.992\n",
            "\n",
            "[9/10] TL: 3.804 TA: 0.988\n",
            "\n",
            "[10/10] batch: [125/1875] loss: 0.023 acc: 0.995\n",
            "[10/10] batch: [250/1875] loss: 0.008 acc: 0.995\n",
            "[10/10] batch: [375/1875] loss: 0.098 acc: 0.995\n",
            "[10/10] batch: [500/1875] loss: 0.002 acc: 0.995\n",
            "[10/10] batch: [625/1875] loss: 0.000 acc: 0.994\n",
            "[10/10] batch: [750/1875] loss: 0.087 acc: 0.994\n",
            "[10/10] batch: [875/1875] loss: 0.001 acc: 0.994\n",
            "[10/10] batch: [1000/1875] loss: 0.022 acc: 0.994\n",
            "[10/10] batch: [1125/1875] loss: 0.135 acc: 0.994\n",
            "[10/10] batch: [1250/1875] loss: 0.003 acc: 0.993\n",
            "[10/10] batch: [1375/1875] loss: 0.018 acc: 0.993\n",
            "[10/10] batch: [1500/1875] loss: 0.000 acc: 0.993\n",
            "[10/10] batch: [1625/1875] loss: 0.021 acc: 0.993\n",
            "[10/10] batch: [1750/1875] loss: 0.031 acc: 0.993\n",
            "[10/10] batch: [1875/1875] loss: 0.003 acc: 0.993\n",
            "\n",
            "[10/10] TL: 3.673 TA: 0.989\n",
            "\n"
          ]
        }
      ],
      "source": [
        "start_time = time.time()\n",
        "\n",
        "epochs = 10\n",
        "train_losses = []\n",
        "test_losses = []\n",
        "train_correct = []\n",
        "test_correct = []\n",
        "\n",
        "for i in range(epochs):\n",
        "    train_acc = 0.0\n",
        "    train_num = 0\n",
        "    train_loss = 0.0\n",
        "\n",
        "    b = 0\n",
        "    for X_train, y_train in train_loader:\n",
        "        b+=1\n",
        "\n",
        "        X_train = X_train.to(device)\n",
        "        y_train = y_train.to(device)\n",
        "\n",
        "        y_pred = model(X_train)\n",
        "        loss = criterion(y_pred, y_train)\n",
        "\n",
        "        train_loss += loss.item()\n",
        "\n",
        "        # which class\n",
        "        predicted = torch.max(y_pred.data,1)[1]\n",
        "        train_acc += (predicted == y_train).sum()\n",
        "        train_num += 32\n",
        "\n",
        "        # gradient calculating ---> update the weights\n",
        "        optimizer.zero_grad()\n",
        "        loss.backward() # gradient\n",
        "        optimizer.step()\n",
        "\n",
        "        # print results\n",
        "        if b%125 == 0:\n",
        "            print(f\"[{i+1}/{epochs}] batch: [{b}/{len(train_loader)}] loss: {loss.item():.3f} acc: {train_acc.item()/train_num:.3f}\")\n",
        "\n",
        "\n",
        "    train_losses.append(train_loss)\n",
        "    train_correct.append(train_acc.item()/train_num)\n",
        "\n",
        "    # evaluating\n",
        "    with torch.no_grad():\n",
        "        b = 0\n",
        "        test_acc = 0.0\n",
        "        test_num = 0\n",
        "        test_loss = 0.0\n",
        "        for X_test, y_test in test_loader:\n",
        "            b+=1\n",
        "\n",
        "            X_test = X_test.to(device)\n",
        "            y_test = y_test.to(device)\n",
        "            y_pred = model(X_test)\n",
        "            test_num += 100\n",
        "\n",
        "            predicted = torch.max(y_pred.data,1)[1]\n",
        "            test_acc += (predicted == y_test).sum()\n",
        "\n",
        "            loss = criterion(y_pred,y_test)\n",
        "            test_loss += loss.item()\n",
        "\n",
        "        test_losses.append(test_loss)\n",
        "\n",
        "        print(f\"\\n[{i+1}/{epochs}] TL: {test_loss:.3f} TA: {test_acc/test_num:.3f}\\n\")\n"
      ]
    },
    {
      "cell_type": "code",
      "execution_count": null,
      "id": "edc416fb-1644-4929-ac68-f438fe20eaee",
      "metadata": {
        "id": "edc416fb-1644-4929-ac68-f438fe20eaee"
      },
      "outputs": [],
      "source": []
    }
  ],
  "metadata": {
    "kernelspec": {
      "display_name": "Python 3 (ipykernel)",
      "language": "python",
      "name": "python3"
    },
    "language_info": {
      "codemirror_mode": {
        "name": "ipython",
        "version": 3
      },
      "file_extension": ".py",
      "mimetype": "text/x-python",
      "name": "python",
      "nbconvert_exporter": "python",
      "pygments_lexer": "ipython3",
      "version": "3.8.16"
    },
    "colab": {
      "provenance": [],
      "include_colab_link": true
    }
  },
  "nbformat": 4,
  "nbformat_minor": 5
}